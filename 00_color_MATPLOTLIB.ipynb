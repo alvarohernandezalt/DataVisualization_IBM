{
    "cells": [
        {
            "cell_type": "code",
            "execution_count": 1,
            "metadata": {},
            "outputs": [
                {
                    "name": "stdout",
                    "output_type": "stream",
                    "text": "aliceblue #F0F8FF\nantiquewhite #FAEBD7\naqua #00FFFF\naquamarine #7FFFD4\nazure #F0FFFF\nbeige #F5F5DC\nbisque #FFE4C4\nblack #000000\nblanchedalmond #FFEBCD\nblue #0000FF\nblueviolet #8A2BE2\nbrown #A52A2A\nburlywood #DEB887\ncadetblue #5F9EA0\nchartreuse #7FFF00\nchocolate #D2691E\ncoral #FF7F50\ncornflowerblue #6495ED\ncornsilk #FFF8DC\ncrimson #DC143C\ncyan #00FFFF\ndarkblue #00008B\ndarkcyan #008B8B\ndarkgoldenrod #B8860B\ndarkgray #A9A9A9\ndarkgreen #006400\ndarkgrey #A9A9A9\ndarkkhaki #BDB76B\ndarkmagenta #8B008B\ndarkolivegreen #556B2F\ndarkorange #FF8C00\ndarkorchid #9932CC\ndarkred #8B0000\ndarksalmon #E9967A\ndarkseagreen #8FBC8F\ndarkslateblue #483D8B\ndarkslategray #2F4F4F\ndarkslategrey #2F4F4F\ndarkturquoise #00CED1\ndarkviolet #9400D3\ndeeppink #FF1493\ndeepskyblue #00BFFF\ndimgray #696969\ndimgrey #696969\ndodgerblue #1E90FF\nfirebrick #B22222\nfloralwhite #FFFAF0\nforestgreen #228B22\nfuchsia #FF00FF\ngainsboro #DCDCDC\nghostwhite #F8F8FF\ngold #FFD700\ngoldenrod #DAA520\ngray #808080\ngreen #008000\ngreenyellow #ADFF2F\ngrey #808080\nhoneydew #F0FFF0\nhotpink #FF69B4\nindianred #CD5C5C\nindigo #4B0082\nivory #FFFFF0\nkhaki #F0E68C\nlavender #E6E6FA\nlavenderblush #FFF0F5\nlawngreen #7CFC00\nlemonchiffon #FFFACD\nlightblue #ADD8E6\nlightcoral #F08080\nlightcyan #E0FFFF\nlightgoldenrodyellow #FAFAD2\nlightgray #D3D3D3\nlightgreen #90EE90\nlightgrey #D3D3D3\nlightpink #FFB6C1\nlightsalmon #FFA07A\nlightseagreen #20B2AA\nlightskyblue #87CEFA\nlightslategray #778899\nlightslategrey #778899\nlightsteelblue #B0C4DE\nlightyellow #FFFFE0\nlime #00FF00\nlimegreen #32CD32\nlinen #FAF0E6\nmagenta #FF00FF\nmaroon #800000\nmediumaquamarine #66CDAA\nmediumblue #0000CD\nmediumorchid #BA55D3\nmediumpurple #9370DB\nmediumseagreen #3CB371\nmediumslateblue #7B68EE\nmediumspringgreen #00FA9A\nmediumturquoise #48D1CC\nmediumvioletred #C71585\nmidnightblue #191970\nmintcream #F5FFFA\nmistyrose #FFE4E1\nmoccasin #FFE4B5\nnavajowhite #FFDEAD\nnavy #000080\noldlace #FDF5E6\nolive #808000\nolivedrab #6B8E23\norange #FFA500\norangered #FF4500\norchid #DA70D6\npalegoldenrod #EEE8AA\npalegreen #98FB98\npaleturquoise #AFEEEE\npalevioletred #DB7093\npapayawhip #FFEFD5\npeachpuff #FFDAB9\nperu #CD853F\npink #FFC0CB\nplum #DDA0DD\npowderblue #B0E0E6\npurple #800080\nrebeccapurple #663399\nred #FF0000\nrosybrown #BC8F8F\nroyalblue #4169E1\nsaddlebrown #8B4513\nsalmon #FA8072\nsandybrown #F4A460\nseagreen #2E8B57\nseashell #FFF5EE\nsienna #A0522D\nsilver #C0C0C0\nskyblue #87CEEB\nslateblue #6A5ACD\nslategray #708090\nslategrey #708090\nsnow #FFFAFA\nspringgreen #00FF7F\nsteelblue #4682B4\ntan #D2B48C\nteal #008080\nthistle #D8BFD8\ntomato #FF6347\nturquoise #40E0D0\nviolet #EE82EE\nwheat #F5DEB3\nwhite #FFFFFF\nwhitesmoke #F5F5F5\nyellow #FFFF00\nyellowgreen #9ACD32\n"
                }
            ],
            "source": "import matplotlib\nfor name, hex in matplotlib.colors.cnames.items():\n    print(name, hex)"
        },
        {
            "cell_type": "code",
            "execution_count": null,
            "metadata": {},
            "outputs": [],
            "source": ""
        }
    ],
    "metadata": {
        "kernelspec": {
            "display_name": "Python 3",
            "language": "python",
            "name": "python3"
        },
        "language_info": {
            "codemirror_mode": {
                "name": "ipython",
                "version": 3
            },
            "file_extension": ".py",
            "mimetype": "text/x-python",
            "name": "python",
            "nbconvert_exporter": "python",
            "pygments_lexer": "ipython3",
            "version": "3.8.3"
        }
    },
    "nbformat": 4,
    "nbformat_minor": 4
}